{
  "nbformat": 4,
  "nbformat_minor": 0,
  "metadata": {
    "colab": {
      "name": "first_phase.ipynb",
      "provenance": [],
      "collapsed_sections": [],
      "authorship_tag": "ABX9TyNGDMcyExp6UrNkrenNXQYe",
      "include_colab_link": true
    },
    "kernelspec": {
      "name": "python3",
      "display_name": "Python 3"
    },
    "accelerator": "GPU"
  },
  "cells": [
    {
      "cell_type": "markdown",
      "metadata": {
        "id": "view-in-github",
        "colab_type": "text"
      },
      "source": [
        "<a href=\"https://colab.research.google.com/github/sravanisasu/AOS_19MCMB14/blob/master/first_phase.ipynb\" target=\"_parent\"><img src=\"https://colab.research.google.com/assets/colab-badge.svg\" alt=\"Open In Colab\"/></a>"
      ]
    },
    {
      "cell_type": "code",
      "metadata": {
        "id": "U-MWsoiWOC8J",
        "outputId": "7313647b-5611-4aa8-9b29-8f0f83300362",
        "colab": {
          "base_uri": "https://localhost:8080/",
          "height": 51
        }
      },
      "source": [
        "# Importing the required packages\n",
        "\n",
        "import nltk\n",
        "nltk.download('stopwords')\n",
        "from nltk.corpus import stopwords\n",
        "from nltk.stem.porter import PorterStemmer\n",
        "import numpy as np\n",
        "from numpy import random\n",
        "from pickle import load\n",
        "from numpy import array\n",
        "import os\n",
        "import re\n",
        "from keras.utils.vis_utils import plot_model\n",
        "from keras.models import Model\n",
        "from keras.layers import Input\n",
        "from keras.layers import Dense\n",
        "from keras.layers import Flatten\n",
        "from keras.layers import Dropout\n",
        "from keras.layers import Embedding\n",
        "from keras import optimizers\n",
        "from keras.layers.convolutional import Conv1D\n",
        "from keras.layers.convolutional import MaxPooling1D\n",
        "from keras.layers.merge import concatenate\n",
        "from keras.preprocessing.text import Tokenizer\n",
        "from keras.preprocessing.sequence import pad_sequences\n",
        "from keras.metrics import RootMeanSquaredError\n",
        "import matplotlib.pyplot as plt\n",
        "from keras.layers.advanced_activations import LeakyReLU"
      ],
      "execution_count": 22,
      "outputs": [
        {
          "output_type": "stream",
          "text": [
            "[nltk_data] Downloading package stopwords to /root/nltk_data...\n",
            "[nltk_data]   Package stopwords is already up-to-date!\n"
          ],
          "name": "stdout"
        }
      ]
    },
    {
      "cell_type": "code",
      "metadata": {
        "id": "O7M9JpeG0CYa"
      },
      "source": [
        "#Define file paths required for the model\n",
        "\n",
        "# embedding bin file\n",
        "embed_file = \"/content/sim.expand.200d.vec\"\n",
        "\n",
        "#Define Hyper parameters\n",
        "max_inp_len = 20000\n",
        "# the dimension of vectors to be used\n",
        "embed_dim = 200\n",
        "rounding = 6\n",
        "# filter sizes of the different conv layers \n",
        "filter_sizes = [3,4,5]\n",
        "num_filters = 1\n",
        "pool_size = 199\n",
        "# dropout probability\n",
        "drop = 0.5\n",
        "batch_size = 50\n",
        "learning_rate = 0.001\n",
        "epochs = 30"
      ],
      "execution_count": 3,
      "outputs": []
    },
    {
      "cell_type": "code",
      "metadata": {
        "id": "7DbBN4tosBE9",
        "outputId": "18e1d11f-3eb5-4e92-d240-aa7bfe77349a",
        "colab": {
          "base_uri": "https://localhost:8080/",
          "height": 34
        }
      },
      "source": [
        "#define embedding dictionary and embed matrix for the vocabulary\n",
        "embeddings_dic = dict()\n",
        "f = open(embed_file,encoding='utf8')\n",
        "with open(embed_file, 'r', encoding='utf-8') as e_file:\n",
        "  for line in e_file:\n",
        "    splitlines = line.split()\n",
        "    word = splitlines[0].strip()\n",
        "    coefs = np.asarray(splitlines[1:], dtype='float32')\n",
        "    embeddings_dic[word] = coefs\n",
        "\n",
        "print(\"length of embedding dictionary\",len(embeddings_dic))\n",
        "\n"
      ],
      "execution_count": 4,
      "outputs": [
        {
          "output_type": "stream",
          "text": [
            "length of embedding dictionary 70428\n"
          ],
          "name": "stdout"
        }
      ]
    },
    {
      "cell_type": "code",
      "metadata": {
        "id": "fqa1tA-lt6e8",
        "outputId": "59a5558a-a9eb-413b-bb4b-44bc16ca65d0",
        "colab": {
          "base_uri": "https://localhost:8080/",
          "height": 51
        }
      },
      "source": [
        "vocabulary_size = len(embeddings_dic.keys())\n",
        "embed_token = Tokenizer()\n",
        "embed_token.fit_on_texts(embeddings_dic.keys())\n",
        "embedding_matrix = np.zeros((vocabulary_size, embed_dim))\n",
        "for word, index in embed_token.word_index.items():\n",
        "  embedding_matrix[index] = embeddings_dic.get(word)\n",
        "print(\"embedding_matrix dimension\",len(embedding_matrix),len(embedding_matrix[0]))\n",
        "print(\"no of token in the tokenizer\",len(embed_token.word_index) + 1)"
      ],
      "execution_count": 5,
      "outputs": [
        {
          "output_type": "stream",
          "text": [
            "embedding_matrix dimension 70428 200\n",
            "no of token in the tokenizer 70428\n"
          ],
          "name": "stdout"
        }
      ]
    },
    {
      "cell_type": "code",
      "metadata": {
        "id": "laF6m-NotXFw"
      },
      "source": [
        "#function to pre process the document\n",
        "def process_doc(path_file,embed_token) :\n",
        "\n",
        "  #tokenizing the words \n",
        "  with open(path_file,'r', encoding='utf-8') as tok_file :\n",
        "    file_words = list(tok_file)[0].split()\n",
        "    \n",
        "  #removing the stop words\n",
        "  stop_words = set(stopwords.words('english'))\n",
        "  filtered_words = []  \n",
        "  for word in file_words: \n",
        "      if word not in stop_words and word.isalpha(): \n",
        "          filtered_words.append(word)\n",
        "\n",
        "  # applying stemming using PorterStemmer\n",
        "\n",
        "  p_stemmer = PorterStemmer()\n",
        "  stem_words=[]\n",
        "  for word in filtered_words:\n",
        "    stem_words.append(p_stemmer.stem(word))\n",
        "    \n",
        "  #tokenizing the words using the embed token\n",
        "  tokens=[]\n",
        "  for word in stem_words:\n",
        "    try:\n",
        "      tokens.append(embed_token.word_index[word])\n",
        "    except:\n",
        "      tokens.append(1)\n",
        "\n",
        "  tokens.extend([0]*(max_inp_len-len(tokens)))\n",
        "\n",
        "  return tokens"
      ],
      "execution_count": 6,
      "outputs": []
    },
    {
      "cell_type": "code",
      "metadata": {
        "id": "3q4J5yKMfxDP"
      },
      "source": [
        "#input dataset\n",
        "def input_data(meta_file):\n",
        "  documents = list()\n",
        "  with open(meta_file,'r', encoding='utf-8') as m_file :\n",
        "    year = meta_file.split('/')[2].split('.')[0]\n",
        "    dir_path = os.path.dirname(meta_file) + '/' +year\n",
        "    for line in m_file.readlines():\n",
        "      inp_path_file = dir_path +'/'+ line.split()[0] + '.mda'\n",
        "      # get tokens for the doc\n",
        "      tokens = process_doc(inp_path_file,embed_token)\n",
        "      documents.append(tokens)\n",
        "  return documents"
      ],
      "execution_count": 7,
      "outputs": []
    },
    {
      "cell_type": "code",
      "metadata": {
        "id": "XVi-HHNCPHkz",
        "outputId": "a9f8debd-352b-4324-b4e6-9733914452af",
        "colab": {
          "base_uri": "https://localhost:8080/",
          "height": 68
        }
      },
      "source": [
        "input_X = input_data('/content/1996.meta.txt')\n",
        "print(len(input_X))\n",
        "input_X.extend(input_data('/content/1997.meta.txt'))\n",
        "print(len(input_X))\n",
        "input_X.extend(input_data('/content/1998.meta.txt'))\n",
        "print(len(input_X))"
      ],
      "execution_count": 8,
      "outputs": [
        {
          "output_type": "stream",
          "text": [
            "1203\n",
            "2908\n",
            "4848\n"
          ],
          "name": "stdout"
        }
      ]
    },
    {
      "cell_type": "code",
      "metadata": {
        "id": "1NCdDHfYt3l7"
      },
      "source": [
        "#output dataset\n",
        "def output_data(out_path_file):\n",
        "  output=[]\n",
        "  with open(out_path_file,'r', encoding='utf-8') as out_file :\n",
        "    for line in out_file.readlines():\n",
        "      output.append(float(line.split()[0]))\n",
        "  return output"
      ],
      "execution_count": 9,
      "outputs": []
    },
    {
      "cell_type": "code",
      "metadata": {
        "id": "yp_iyrbHQXR6",
        "outputId": "61c8d6eb-9f33-4688-d702-f7aa18b84c3c",
        "colab": {
          "base_uri": "https://localhost:8080/",
          "height": 68
        }
      },
      "source": [
        "output_Y = output_data('/content/1996.logvol.+12.txt')\n",
        "print(len(output_Y))\n",
        "output_Y.extend(output_data('/content/1997.logvol.+12.txt'))\n",
        "print(len(output_Y))\n",
        "output_Y.extend(output_data('/content/1998.logvol.+12.txt'))\n",
        "print(len(output_Y))"
      ],
      "execution_count": 10,
      "outputs": [
        {
          "output_type": "stream",
          "text": [
            "1203\n",
            "2908\n",
            "4848\n"
          ],
          "name": "stdout"
        }
      ]
    },
    {
      "cell_type": "code",
      "metadata": {
        "id": "Lar37ukkqj-i",
        "outputId": "6bee019f-3ff6-4d8c-b72e-67b31183fe42",
        "colab": {
          "base_uri": "https://localhost:8080/",
          "height": 34
        }
      },
      "source": [
        "print(np.array(input_X).shape)\n",
        "#np.array(output_Y).shape"
      ],
      "execution_count": 11,
      "outputs": [
        {
          "output_type": "stream",
          "text": [
            "(4848, 20000)\n"
          ],
          "name": "stdout"
        }
      ]
    },
    {
      "cell_type": "code",
      "metadata": {
        "id": "wIOmvEheA_Mw"
      },
      "source": [
        "def define_model(max_inp_len,vocabulary_size,embed_dim,filter_sizes,num_filters,pool_size,drop,learning_rate):\n",
        "  \n",
        "  # input and embedding matrix\n",
        "  inputs = Input(shape=(max_inp_len,))\n",
        "  embedding = Embedding(vocabulary_size, embed_dim, weights=[embedding_matrix],trainable = False)(inputs)\n",
        "\n",
        "  custom_objects={'leaky_relu': tf.nn.leaky_relu}\n",
        "\n",
        "  # channel 1 convolution and local max-pooling\n",
        "  convolution_1 = Conv1D(filters=num_filters, kernel_size=filter_sizes[0], activation=custom_objects['leaky_relu'])(embedding)\n",
        "  pool_1 = MaxPooling1D(pool_size=pool_size)(convolution_1)\n",
        "  \n",
        "\t# channel 2 convolution and local max-pooling\n",
        "  convolution_4 = Conv1D(filters=num_filters, kernel_size=filter_sizes[1], activation=custom_objects['leaky_relu'])(embedding)\n",
        "  pool_2 = MaxPooling1D(pool_size=pool_size)(convolution_4)\n",
        "  \n",
        "  # channel 3 convolution and local max-pooling\n",
        "  convolution_5 = Conv1D(filters=num_filters, kernel_size=filter_sizes[2], activation=custom_objects['leaky_relu'])(embedding)\n",
        "  pool_3 = MaxPooling1D(pool_size=pool_size)(convolution_5)\n",
        "  \n",
        "  # merge and dropout\n",
        "  merged = concatenate([pool_1,pool_2,pool_3],axis=1)\n",
        "  drop_out = Dropout(drop)(merged)\n",
        "  flat = Flatten()(drop_out)\n",
        "\n",
        "  # 2 fully connected layers\n",
        "  dense1 = Dense(100, activation=custom_objects['leaky_relu'])(flat)\n",
        "  outputs = Dense(1, activation=custom_objects['leaky_relu'])(dense1)\n",
        "  model = Model(inputs=[inputs], outputs=outputs)\n",
        "    \n",
        "  opt = optimizers.SGD(learning_rate=learning_rate)\n",
        "  model.compile(loss='mse', optimizer=opt, metrics=[RootMeanSquaredError()])\n",
        "\n",
        "\t# summarize\n",
        "  print(model.summary())\n",
        "  return model"
      ],
      "execution_count": 39,
      "outputs": []
    },
    {
      "cell_type": "code",
      "metadata": {
        "id": "FeyM-2XMBi7O",
        "outputId": "9e4f0c53-51ab-495d-f7ec-99ff6306b9c1",
        "colab": {
          "base_uri": "https://localhost:8080/",
          "height": 1000
        }
      },
      "source": [
        "input_X = np.array(input_X)\n",
        "output_Y = np.array(output_Y)\n",
        "#output_Y = tf.keras.utils.normalize(output_Y)\n",
        "print(input_X.shape)\n",
        "print(output_Y.shape)\n",
        "from sklearn import model_selection as ms\n",
        "\n",
        "x_train, x_test, y_train, y_test = ms.train_test_split(input_X, output_Y, random_state = 1 ,test_size=0.33)\n",
        "\n",
        "print(\"total input shape\",input_X.shape)\n",
        "print(\"total output shape\",output_Y.shape)\n",
        "print(\"training input shape\",x_train.shape)\n",
        "print(\"training output shape\",y_train.shape)\n",
        "print(\"testing input shape\",x_test.shape)\n",
        "print(\"testing output shape\",y_test.shape)\n",
        "\n",
        "# define model\n",
        "model = define_model(max_inp_len,vocabulary_size,embed_dim,filter_sizes,num_filters,pool_size,drop,learning_rate)\n",
        "# fit mode\n",
        "history = model.fit(x_train, y_train,batch_size=batch_size,epochs=epochs)\n",
        "model.save('model.h5')\n",
        "\n"
      ],
      "execution_count": 40,
      "outputs": [
        {
          "output_type": "stream",
          "text": [
            "(4848, 20000)\n",
            "(4848,)\n",
            "total input shape (4848, 20000)\n",
            "total output shape (4848,)\n",
            "training input shape (3248, 20000)\n",
            "training output shape (3248,)\n",
            "testing input shape (1600, 20000)\n",
            "testing output shape (1600,)\n",
            "Model: \"functional_9\"\n",
            "__________________________________________________________________________________________________\n",
            "Layer (type)                    Output Shape         Param #     Connected to                     \n",
            "==================================================================================================\n",
            "input_10 (InputLayer)           [(None, 20000)]      0                                            \n",
            "__________________________________________________________________________________________________\n",
            "embedding_9 (Embedding)         (None, 20000, 200)   14085600    input_10[0][0]                   \n",
            "__________________________________________________________________________________________________\n",
            "conv1d_13 (Conv1D)              (None, 19998, 1)     601         embedding_9[0][0]                \n",
            "__________________________________________________________________________________________________\n",
            "conv1d_14 (Conv1D)              (None, 19997, 1)     801         embedding_9[0][0]                \n",
            "__________________________________________________________________________________________________\n",
            "conv1d_15 (Conv1D)              (None, 19996, 1)     1001        embedding_9[0][0]                \n",
            "__________________________________________________________________________________________________\n",
            "max_pooling1d_13 (MaxPooling1D) (None, 100, 1)       0           conv1d_13[0][0]                  \n",
            "__________________________________________________________________________________________________\n",
            "max_pooling1d_14 (MaxPooling1D) (None, 100, 1)       0           conv1d_14[0][0]                  \n",
            "__________________________________________________________________________________________________\n",
            "max_pooling1d_15 (MaxPooling1D) (None, 100, 1)       0           conv1d_15[0][0]                  \n",
            "__________________________________________________________________________________________________\n",
            "concatenate_4 (Concatenate)     (None, 300, 1)       0           max_pooling1d_13[0][0]           \n",
            "                                                                 max_pooling1d_14[0][0]           \n",
            "                                                                 max_pooling1d_15[0][0]           \n",
            "__________________________________________________________________________________________________\n",
            "dropout_4 (Dropout)             (None, 300, 1)       0           concatenate_4[0][0]              \n",
            "__________________________________________________________________________________________________\n",
            "flatten_4 (Flatten)             (None, 300)          0           dropout_4[0][0]                  \n",
            "__________________________________________________________________________________________________\n",
            "dense_8 (Dense)                 (None, 100)          30100       flatten_4[0][0]                  \n",
            "__________________________________________________________________________________________________\n",
            "dense_9 (Dense)                 (None, 1)            101         dense_8[0][0]                    \n",
            "==================================================================================================\n",
            "Total params: 14,118,204\n",
            "Trainable params: 32,604\n",
            "Non-trainable params: 14,085,600\n",
            "__________________________________________________________________________________________________\n",
            "None\n",
            "Epoch 1/30\n",
            "65/65 [==============================] - 29s 441ms/step - loss: 11.0739 - root_mean_squared_error: 3.3278\n",
            "Epoch 2/30\n",
            "65/65 [==============================] - 29s 440ms/step - loss: 10.2041 - root_mean_squared_error: 3.1944\n",
            "Epoch 3/30\n",
            "65/65 [==============================] - 29s 440ms/step - loss: 7.5015 - root_mean_squared_error: 2.7389\n",
            "Epoch 4/30\n",
            "65/65 [==============================] - 29s 440ms/step - loss: 1.8491 - root_mean_squared_error: 1.3598\n",
            "Epoch 5/30\n",
            "65/65 [==============================] - 29s 440ms/step - loss: 0.4370 - root_mean_squared_error: 0.6611\n",
            "Epoch 6/30\n",
            "65/65 [==============================] - 29s 440ms/step - loss: 0.4151 - root_mean_squared_error: 0.6443\n",
            "Epoch 7/30\n",
            "65/65 [==============================] - 29s 439ms/step - loss: 0.4037 - root_mean_squared_error: 0.6354\n",
            "Epoch 8/30\n",
            "65/65 [==============================] - 29s 440ms/step - loss: 0.4131 - root_mean_squared_error: 0.6428\n",
            "Epoch 9/30\n",
            "65/65 [==============================] - 29s 441ms/step - loss: 0.4100 - root_mean_squared_error: 0.6403\n",
            "Epoch 10/30\n",
            "65/65 [==============================] - 29s 440ms/step - loss: 0.4140 - root_mean_squared_error: 0.6434\n",
            "Epoch 11/30\n",
            "65/65 [==============================] - 29s 440ms/step - loss: 0.4102 - root_mean_squared_error: 0.6404\n",
            "Epoch 12/30\n",
            "65/65 [==============================] - 29s 440ms/step - loss: 0.4035 - root_mean_squared_error: 0.6352\n",
            "Epoch 13/30\n",
            "65/65 [==============================] - 29s 441ms/step - loss: 0.4055 - root_mean_squared_error: 0.6368\n",
            "Epoch 14/30\n",
            "65/65 [==============================] - 29s 440ms/step - loss: 0.3993 - root_mean_squared_error: 0.6319\n",
            "Epoch 15/30\n",
            "65/65 [==============================] - 29s 441ms/step - loss: 0.3983 - root_mean_squared_error: 0.6311\n",
            "Epoch 16/30\n",
            "65/65 [==============================] - 29s 441ms/step - loss: 0.4056 - root_mean_squared_error: 0.6369\n",
            "Epoch 17/30\n",
            "65/65 [==============================] - 29s 440ms/step - loss: 0.3980 - root_mean_squared_error: 0.6309\n",
            "Epoch 18/30\n",
            "65/65 [==============================] - 29s 440ms/step - loss: 0.4043 - root_mean_squared_error: 0.6358\n",
            "Epoch 19/30\n",
            "65/65 [==============================] - 29s 441ms/step - loss: 0.3988 - root_mean_squared_error: 0.6315\n",
            "Epoch 20/30\n",
            "65/65 [==============================] - 29s 440ms/step - loss: 0.4012 - root_mean_squared_error: 0.6334\n",
            "Epoch 21/30\n",
            "65/65 [==============================] - 29s 440ms/step - loss: 0.4045 - root_mean_squared_error: 0.6360\n",
            "Epoch 22/30\n",
            "65/65 [==============================] - 29s 441ms/step - loss: 0.3922 - root_mean_squared_error: 0.6262\n",
            "Epoch 23/30\n",
            "65/65 [==============================] - 29s 441ms/step - loss: 0.3957 - root_mean_squared_error: 0.6291\n",
            "Epoch 24/30\n",
            "65/65 [==============================] - 29s 440ms/step - loss: 0.4042 - root_mean_squared_error: 0.6357\n",
            "Epoch 25/30\n",
            "65/65 [==============================] - 29s 441ms/step - loss: 0.3945 - root_mean_squared_error: 0.6281\n",
            "Epoch 26/30\n",
            "65/65 [==============================] - 29s 441ms/step - loss: 0.3921 - root_mean_squared_error: 0.6262\n",
            "Epoch 27/30\n",
            "65/65 [==============================] - 29s 441ms/step - loss: 0.3914 - root_mean_squared_error: 0.6256\n",
            "Epoch 28/30\n",
            "65/65 [==============================] - 29s 441ms/step - loss: 0.3913 - root_mean_squared_error: 0.6256\n",
            "Epoch 29/30\n",
            "65/65 [==============================] - 29s 441ms/step - loss: 0.3906 - root_mean_squared_error: 0.6249\n",
            "Epoch 30/30\n",
            "65/65 [==============================] - 29s 441ms/step - loss: 0.3956 - root_mean_squared_error: 0.6290\n"
          ],
          "name": "stdout"
        }
      ]
    },
    {
      "cell_type": "code",
      "metadata": {
        "id": "xjyXD9-Y9A33",
        "outputId": "48d5a45d-8732-40b9-c7bb-ed8d7900a118",
        "colab": {
          "base_uri": "https://localhost:8080/",
          "height": 51
        }
      },
      "source": [
        "loss_T, RMSE_T = model.evaluate(x_train, y_train, verbose=0)\n",
        "print('Train Error: %f' % (RMSE_T))\n",
        " \n",
        "# evaluate model on test dataset dataset\n",
        "loss_V, RMSE_V = model.evaluate(x_test,y_test, verbose=0)\n",
        "print('Test Error: %f' % (RMSE_V))"
      ],
      "execution_count": 41,
      "outputs": [
        {
          "output_type": "stream",
          "text": [
            "Train Error: 0.559181\n",
            "Test Error: 0.563773\n"
          ],
          "name": "stdout"
        }
      ]
    },
    {
      "cell_type": "code",
      "metadata": {
        "id": "daLyVCcEzjmJ",
        "outputId": "063919eb-4869-4ea0-81d1-1627df962d8d",
        "colab": {
          "base_uri": "https://localhost:8080/",
          "height": 296
        }
      },
      "source": [
        "print(history.history.keys())\n",
        "fig, ax1 = plt.subplots()\n",
        "epochs_arr =[i for i in range(0,epochs)]\n",
        "color = 'tab:red'\n",
        "ax1.set_xlabel('epoch')\n",
        "ax1.set_ylabel('RMSE', color=color)\n",
        "ax1.plot(epochs_arr, history.history['root_mean_squared_error'], color=color)\n",
        "ax1.tick_params(axis='y', labelcolor=color)\n",
        "plt.show()\n"
      ],
      "execution_count": 46,
      "outputs": [
        {
          "output_type": "stream",
          "text": [
            "dict_keys(['loss', 'root_mean_squared_error'])\n"
          ],
          "name": "stdout"
        },
        {
          "output_type": "display_data",
          "data": {
            "image/png": "[encoded data removed]",
            "text/plain": [
              "<Figure size 432x288 with 1 Axes>"
            ]
          },
          "metadata": {
            "tags": [],
            "needs_background": "light"
          }
        }
      ]
    }
  ]
}