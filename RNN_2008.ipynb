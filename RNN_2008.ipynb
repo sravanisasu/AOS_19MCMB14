{
  "nbformat": 4,
  "nbformat_minor": 0,
  "metadata": {
    "colab": {
      "name": "first_phase.ipynb",
      "provenance": [],
      "collapsed_sections": [],
      "authorship_tag": "ABX9TyOOQmtCOJs0mCTWfzNHhqeh",
      "include_colab_link": true
    },
    "kernelspec": {
      "name": "python3",
      "display_name": "Python 3"
    },
    "accelerator": "GPU"
  },
  "cells": [
    {
      "cell_type": "markdown",
      "metadata": {
        "id": "view-in-github",
        "colab_type": "text"
      },
      "source": [
        "<a href=\"https://colab.research.google.com/github/sravanisasu/volatality_pred/blob/master/RNN_2008.ipynb\" target=\"_parent\"><img src=\"https://colab.research.google.com/assets/colab-badge.svg\" alt=\"Open In Colab\"/></a>"
      ]
    },
    {
      "cell_type": "code",
      "metadata": {
        "id": "U-MWsoiWOC8J",
        "outputId": "374e2606-783d-42ba-9ba4-3d3805558dc6",
        "colab": {
          "base_uri": "https://localhost:8080/",
          "height": 51
        }
      },
      "source": [
        "# Importing the required packages\n",
        "\n",
        "import nltk\n",
        "nltk.download('stopwords')\n",
        "from nltk.corpus import stopwords\n",
        "from nltk.stem.porter import PorterStemmer\n",
        "import numpy as np\n",
        "from numpy import random\n",
        "from pickle import load\n",
        "from numpy import array\n",
        "import os\n",
        "import re\n",
        "from keras.utils.vis_utils import plot_model\n",
        "from keras.models import Model\n",
        "from keras.layers import Input\n",
        "from keras.layers import Dense\n",
        "from keras.layers import Flatten\n",
        "from keras.layers import Dropout\n",
        "from keras.layers import Embedding\n",
        "from keras import optimizers\n",
        "from keras.layers import LSTM\n",
        "from keras.layers.merge import concatenate\n",
        "from keras.preprocessing.text import Tokenizer\n",
        "from keras.preprocessing.sequence import pad_sequences\n",
        "from keras.metrics import RootMeanSquaredError\n",
        "import matplotlib.pyplot as plt\n",
        "from keras.layers.advanced_activations import LeakyReLU\n",
        "import tensorflow as tf"
      ],
      "execution_count": 2,
      "outputs": [
        {
          "output_type": "stream",
          "text": [
            "[nltk_data] Downloading package stopwords to /root/nltk_data...\n",
            "[nltk_data]   Unzipping corpora/stopwords.zip.\n"
          ],
          "name": "stdout"
        }
      ]
    },
    {
      "cell_type": "code",
      "metadata": {
        "id": "O7M9JpeG0CYa"
      },
      "source": [
        "#Define file paths required for the model\n",
        "\n",
        "# embedding bin file\n",
        "embed_file = \"/content/sim.expand.200d.vec\"\n",
        "\n",
        "#Define Hyper parameters\n",
        "max_inp_len = 20000\n",
        "# the dimension of vectors to be used\n",
        "embed_dim = 200\n",
        "rounding = 6\n",
        "# filter sizes of the different conv layers \n",
        "filter_sizes = [3,4,5]\n",
        "num_filters = 1\n",
        "pool_size = 199\n",
        "# dropout probability\n",
        "drop = 0.5\n",
        "batch_size = 50\n",
        "learning_rate = 0.001\n",
        "epochs = 50"
      ],
      "execution_count": 16,
      "outputs": []
    },
    {
      "cell_type": "code",
      "metadata": {
        "id": "7DbBN4tosBE9",
        "outputId": "fbbbdf84-1adc-450f-a398-202f96c1a9b2",
        "colab": {
          "base_uri": "https://localhost:8080/",
          "height": 34
        }
      },
      "source": [
        "#define embedding dictionary and embed matrix for the vocabulary\n",
        "embeddings_dic = dict()\n",
        "f = open(embed_file,encoding='utf8')\n",
        "with open(embed_file, 'r', encoding='utf-8') as e_file:\n",
        "  for line in e_file:\n",
        "    splitlines = line.split()\n",
        "    word = splitlines[0].strip()\n",
        "    coefs = np.asarray(splitlines[1:], dtype='float32')\n",
        "    embeddings_dic[word] = coefs\n",
        "\n",
        "print(\"length of embedding dictionary\",len(embeddings_dic))\n",
        "\n"
      ],
      "execution_count": 4,
      "outputs": [
        {
          "output_type": "stream",
          "text": [
            "length of embedding dictionary 70428\n"
          ],
          "name": "stdout"
        }
      ]
    },
    {
      "cell_type": "code",
      "metadata": {
        "id": "fqa1tA-lt6e8",
        "outputId": "138fa6cb-c440-4bd6-a753-94b908f3e773",
        "colab": {
          "base_uri": "https://localhost:8080/",
          "height": 51
        }
      },
      "source": [
        "vocabulary_size = len(embeddings_dic.keys())\n",
        "embed_token = Tokenizer()\n",
        "embed_token.fit_on_texts(embeddings_dic.keys())\n",
        "embedding_matrix = np.zeros((vocabulary_size, embed_dim))\n",
        "for word, index in embed_token.word_index.items():\n",
        "  embedding_matrix[index] = embeddings_dic.get(word)\n",
        "print(\"embedding_matrix dimension\",len(embedding_matrix),len(embedding_matrix[0]))\n",
        "print(\"no of token in the tokenizer\",len(embed_token.word_index) + 1)"
      ],
      "execution_count": 5,
      "outputs": [
        {
          "output_type": "stream",
          "text": [
            "embedding_matrix dimension 70428 200\n",
            "no of token in the tokenizer 70428\n"
          ],
          "name": "stdout"
        }
      ]
    },
    {
      "cell_type": "code",
      "metadata": {
        "id": "laF6m-NotXFw"
      },
      "source": [
        "#function to pre process the document\n",
        "def process_doc(path_file,embed_token) :\n",
        "\n",
        "  #tokenizing the words \n",
        "  with open(path_file,'r', encoding='utf-8') as tok_file :\n",
        "    file_words = list(tok_file)[0].split()\n",
        "    \n",
        "  #removing the stop words\n",
        "  stop_words = set(stopwords.words('english'))\n",
        "  filtered_words = list()  \n",
        "  for word in file_words: \n",
        "      if word not in stop_words and word.isalpha(): \n",
        "          filtered_words.append(word)\n",
        "\n",
        "  # applying stemming using PorterStemmer\n",
        "\n",
        "  p_stemmer = PorterStemmer()\n",
        "  stem_words=list()\n",
        "  for word in filtered_words:\n",
        "    stem_words.append(p_stemmer.stem(word))\n",
        "    \n",
        "  #tokenizing the words using the embed token\n",
        "  tokens=list()\n",
        "  for word in stem_words:\n",
        "    try:\n",
        "      tokens.append(embed_token.word_index[word])\n",
        "    except:\n",
        "      tokens.append(1)\n",
        "  if max_inp_len > len(tokens) :\n",
        "    tokens.extend([0]*(max_inp_len-len(tokens)))\n",
        "  elif max_inp_len < len(tokens) :\n",
        "    tokens=tokens[:max_inp_len]\n",
        "  else:\n",
        "    pass\n",
        "  return tokens"
      ],
      "execution_count": 6,
      "outputs": []
    },
    {
      "cell_type": "code",
      "metadata": {
        "id": "3q4J5yKMfxDP"
      },
      "source": [
        "#input dataset\n",
        "def input_data(meta_file):\n",
        "  documents = list()\n",
        "  with open(meta_file,'r', encoding='utf-8') as m_file :\n",
        "    year = meta_file.split('/')[2].split('.')[0]\n",
        "    dir_path = os.path.dirname(meta_file) + '/' +year\n",
        "    for line in m_file.readlines():\n",
        "      inp_path_file = dir_path +'/'+ line.split()[0] + '.mda'\n",
        "      # get tokens for the doc\n",
        "      tokens = process_doc(inp_path_file,embed_token)\n",
        "      documents.append(tokens)\n",
        "  return documents"
      ],
      "execution_count": 7,
      "outputs": []
    },
    {
      "cell_type": "code",
      "metadata": {
        "id": "XVi-HHNCPHkz",
        "outputId": "20c85973-ae81-4a87-f26d-f7d12c19b3bf",
        "colab": {
          "base_uri": "https://localhost:8080/",
          "height": 34
        }
      },
      "source": [
        "input_X = list()\n",
        "input_X.extend(input_data('/content/2008.meta.txt'))\n",
        "print(len(input_X))\n",
        "#input_X.extend(input_data('/content/1997.meta.txt'))\n",
        "#print(len(input_X))\n",
        "#input_X.extend(input_data('/content/1998.meta.txt'))\n",
        "#print(len(input_X))"
      ],
      "execution_count": 8,
      "outputs": [
        {
          "output_type": "stream",
          "text": [
            "2509\n"
          ],
          "name": "stdout"
        }
      ]
    },
    {
      "cell_type": "code",
      "metadata": {
        "id": "1NCdDHfYt3l7"
      },
      "source": [
        "#output dataset\n",
        "def output_data(out_path_file):\n",
        "  output=[]\n",
        "  with open(out_path_file,'r', encoding='utf-8') as out_file :\n",
        "    for line in out_file.readlines():\n",
        "      output.append(float(line.split()[0]))\n",
        "  return output"
      ],
      "execution_count": 9,
      "outputs": []
    },
    {
      "cell_type": "code",
      "metadata": {
        "id": "yp_iyrbHQXR6",
        "outputId": "830ca41f-f03c-43ae-9fa5-20e75f81be52",
        "colab": {
          "base_uri": "https://localhost:8080/",
          "height": 34
        }
      },
      "source": [
        "output_Y = output_data('/content/2008.logvol.+12.txt')\n",
        "print(len(output_Y))\n",
        "#output_Y.extend(output_data('/content/1997.logvol.+12.txt'))\n",
        "#print(len(output_Y))\n",
        "#output_Y.extend(output_data('/content/1998.logvol.+12.txt'))\n",
        "#print(len(output_Y))"
      ],
      "execution_count": 10,
      "outputs": [
        {
          "output_type": "stream",
          "text": [
            "2509\n"
          ],
          "name": "stdout"
        }
      ]
    },
    {
      "cell_type": "code",
      "metadata": {
        "id": "Lar37ukkqj-i",
        "outputId": "25fb5540-cbd8-439f-bdb3-e1e7306b14fd",
        "colab": {
          "base_uri": "https://localhost:8080/",
          "height": 34
        }
      },
      "source": [
        "print(np.array(input_X).shape)\n",
        "#np.array(output_Y).shape"
      ],
      "execution_count": 11,
      "outputs": [
        {
          "output_type": "stream",
          "text": [
            "(2509, 20000)\n"
          ],
          "name": "stdout"
        }
      ]
    },
    {
      "cell_type": "code",
      "metadata": {
        "id": "wIOmvEheA_Mw"
      },
      "source": [
        "def define_model(max_inp_len,vocabulary_size,embed_dim,filter_sizes,num_filters,pool_size,drop,learning_rate):\n",
        "  \n",
        "  # input and embedding matrix\n",
        "  inputs = Input(shape=(max_inp_len,))\n",
        "  embedding = Embedding(vocabulary_size, embed_dim, weights=[embedding_matrix],trainable = False)(inputs)\n",
        "\n",
        "  custom_objects={'leaky_relu': tf.nn.leaky_relu}\n",
        "  \n",
        "  # Layer1 RNN with LSTM\n",
        "  layer_1 = LSTM(units=100, activation = 'tanh' )(embedding)\n",
        "       \n",
        "  # 1 fully connected layers\n",
        "  outputs = Dense(1, activation=custom_objects['leaky_relu'])(layer_1)\n",
        "  model = Model(inputs=[inputs], outputs=outputs)\n",
        "    \n",
        "  opt = optimizers.SGD(learning_rate=learning_rate)\n",
        "  model.compile(loss='mse', optimizer=opt, metrics=[RootMeanSquaredError()])\n",
        "\n",
        "\t# summarize\n",
        "  print(model.summary())\n",
        "  return model"
      ],
      "execution_count": 12,
      "outputs": []
    },
    {
      "cell_type": "code",
      "metadata": {
        "id": "FeyM-2XMBi7O",
        "outputId": "a9865366-b1b3-478b-8edf-2ee4e063f2da",
        "colab": {
          "base_uri": "https://localhost:8080/",
          "height": 1000
        }
      },
      "source": [
        "input_X = np.array(input_X)\n",
        "output_Y = np.array(output_Y)\n",
        "#output_Y = tf.keras.utils.normalize(output_Y)\n",
        "print(input_X.shape)\n",
        "print(output_Y.shape)\n",
        "from sklearn import model_selection as ms\n",
        "\n",
        "x_train, x_test, y_train, y_test = ms.train_test_split(input_X, output_Y, random_state = 1 ,test_size=0.33)\n",
        "\n",
        "print(\"total input shape\",input_X.shape)\n",
        "print(\"total output shape\",output_Y.shape)\n",
        "print(\"training input shape\",x_train.shape)\n",
        "print(\"training output shape\",y_train.shape)\n",
        "print(\"testing input shape\",x_test.shape)\n",
        "print(\"testing output shape\",y_test.shape)\n",
        "\n",
        "# define model\n",
        "model = define_model(max_inp_len,vocabulary_size,embed_dim,filter_sizes,num_filters,pool_size,drop,learning_rate)\n",
        "# fit mode\n",
        "history = model.fit(x_train, y_train,batch_size=batch_size,epochs=epochs)\n",
        "model.save('model.h5')\n",
        "\n"
      ],
      "execution_count": 17,
      "outputs": [
        {
          "output_type": "stream",
          "text": [
            "(2509, 20000)\n",
            "(2509,)\n",
            "total input shape (2509, 20000)\n",
            "total output shape (2509,)\n",
            "training input shape (1681, 20000)\n",
            "training output shape (1681,)\n",
            "testing input shape (828, 20000)\n",
            "testing output shape (828,)\n",
            "Model: \"functional_3\"\n",
            "_________________________________________________________________\n",
            "Layer (type)                 Output Shape              Param #   \n",
            "=================================================================\n",
            "input_2 (InputLayer)         [(None, 20000)]           0         \n",
            "_________________________________________________________________\n",
            "embedding_1 (Embedding)      (None, 20000, 200)        14085600  \n",
            "_________________________________________________________________\n",
            "lstm_1 (LSTM)                (None, 100)               120400    \n",
            "_________________________________________________________________\n",
            "dense_1 (Dense)              (None, 1)                 101       \n",
            "=================================================================\n",
            "Total params: 14,206,101\n",
            "Trainable params: 120,501\n",
            "Non-trainable params: 14,085,600\n",
            "_________________________________________________________________\n",
            "None\n",
            "Epoch 1/50\n",
            "34/34 [==============================] - 44s 1s/step - loss: 8.9284 - root_mean_squared_error: 2.9880\n",
            "Epoch 2/50\n",
            "34/34 [==============================] - 44s 1s/step - loss: 8.7729 - root_mean_squared_error: 2.9619\n",
            "Epoch 3/50\n",
            "34/34 [==============================] - 44s 1s/step - loss: 8.6172 - root_mean_squared_error: 2.9355\n",
            "Epoch 4/50\n",
            "34/34 [==============================] - 44s 1s/step - loss: 8.4555 - root_mean_squared_error: 2.9078\n",
            "Epoch 5/50\n",
            "34/34 [==============================] - 45s 1s/step - loss: 8.2829 - root_mean_squared_error: 2.8780\n",
            "Epoch 6/50\n",
            "34/34 [==============================] - 44s 1s/step - loss: 8.0931 - root_mean_squared_error: 2.8448\n",
            "Epoch 7/50\n",
            "34/34 [==============================] - 44s 1s/step - loss: 7.8760 - root_mean_squared_error: 2.8064\n",
            "Epoch 8/50\n",
            "34/34 [==============================] - 44s 1s/step - loss: 7.6154 - root_mean_squared_error: 2.7596\n",
            "Epoch 9/50\n",
            "34/34 [==============================] - 44s 1s/step - loss: 7.2836 - root_mean_squared_error: 2.6988\n",
            "Epoch 10/50\n",
            "34/34 [==============================] - 44s 1s/step - loss: 6.8346 - root_mean_squared_error: 2.6143\n",
            "Epoch 11/50\n",
            "34/34 [==============================] - 44s 1s/step - loss: 6.2135 - root_mean_squared_error: 2.4927\n",
            "Epoch 12/50\n",
            "34/34 [==============================] - 44s 1s/step - loss: 5.4302 - root_mean_squared_error: 2.3303\n",
            "Epoch 13/50\n",
            "34/34 [==============================] - 44s 1s/step - loss: 4.6130 - root_mean_squared_error: 2.1478\n",
            "Epoch 14/50\n",
            "34/34 [==============================] - 44s 1s/step - loss: 3.8806 - root_mean_squared_error: 1.9699\n",
            "Epoch 15/50\n",
            "34/34 [==============================] - 44s 1s/step - loss: 3.2605 - root_mean_squared_error: 1.8057\n",
            "Epoch 16/50\n",
            "34/34 [==============================] - 44s 1s/step - loss: 2.7403 - root_mean_squared_error: 1.6554\n",
            "Epoch 17/50\n",
            "34/34 [==============================] - 44s 1s/step - loss: 2.3013 - root_mean_squared_error: 1.5170\n",
            "Epoch 18/50\n",
            "34/34 [==============================] - 44s 1s/step - loss: 1.9282 - root_mean_squared_error: 1.3886\n",
            "Epoch 19/50\n",
            "34/34 [==============================] - 44s 1s/step - loss: 1.6122 - root_mean_squared_error: 1.2697\n",
            "Epoch 20/50\n",
            "34/34 [==============================] - 45s 1s/step - loss: 1.3458 - root_mean_squared_error: 1.1601\n",
            "Epoch 21/50\n",
            "34/34 [==============================] - 44s 1s/step - loss: 1.1214 - root_mean_squared_error: 1.0590\n",
            "Epoch 22/50\n",
            "34/34 [==============================] - 44s 1s/step - loss: 0.9349 - root_mean_squared_error: 0.9669\n",
            "Epoch 23/50\n",
            "34/34 [==============================] - 44s 1s/step - loss: 0.7811 - root_mean_squared_error: 0.8838\n",
            "Epoch 24/50\n",
            "34/34 [==============================] - 44s 1s/step - loss: 0.6551 - root_mean_squared_error: 0.8094\n",
            "Epoch 25/50\n",
            "34/34 [==============================] - 45s 1s/step - loss: 0.5535 - root_mean_squared_error: 0.7440\n",
            "Epoch 26/50\n",
            "34/34 [==============================] - 44s 1s/step - loss: 0.4722 - root_mean_squared_error: 0.6872\n",
            "Epoch 27/50\n",
            "34/34 [==============================] - 44s 1s/step - loss: 0.4076 - root_mean_squared_error: 0.6384\n",
            "Epoch 28/50\n",
            "34/34 [==============================] - 44s 1s/step - loss: 0.3567 - root_mean_squared_error: 0.5972\n",
            "Epoch 29/50\n",
            "34/34 [==============================] - 44s 1s/step - loss: 0.3168 - root_mean_squared_error: 0.5629\n",
            "Epoch 30/50\n",
            "34/34 [==============================] - 44s 1s/step - loss: 0.2859 - root_mean_squared_error: 0.5347\n",
            "Epoch 31/50\n",
            "34/34 [==============================] - 44s 1s/step - loss: 0.2621 - root_mean_squared_error: 0.5119\n",
            "Epoch 32/50\n",
            "34/34 [==============================] - 45s 1s/step - loss: 0.2439 - root_mean_squared_error: 0.4939\n",
            "Epoch 33/50\n",
            "34/34 [==============================] - 44s 1s/step - loss: 0.2301 - root_mean_squared_error: 0.4797\n",
            "Epoch 34/50\n",
            "34/34 [==============================] - 44s 1s/step - loss: 0.2196 - root_mean_squared_error: 0.4686\n",
            "Epoch 35/50\n",
            "34/34 [==============================] - 44s 1s/step - loss: 0.2118 - root_mean_squared_error: 0.4602\n",
            "Epoch 36/50\n",
            "34/34 [==============================] - 44s 1s/step - loss: 0.2058 - root_mean_squared_error: 0.4536\n",
            "Epoch 37/50\n",
            "34/34 [==============================] - 44s 1s/step - loss: 0.2013 - root_mean_squared_error: 0.4486\n",
            "Epoch 38/50\n",
            "34/34 [==============================] - 44s 1s/step - loss: 0.1979 - root_mean_squared_error: 0.4449\n",
            "Epoch 39/50\n",
            "34/34 [==============================] - 44s 1s/step - loss: 0.1954 - root_mean_squared_error: 0.4421\n",
            "Epoch 40/50\n",
            "34/34 [==============================] - 44s 1s/step - loss: 0.1936 - root_mean_squared_error: 0.4400\n",
            "Epoch 41/50\n",
            "34/34 [==============================] - 44s 1s/step - loss: 0.1922 - root_mean_squared_error: 0.4384\n",
            "Epoch 42/50\n",
            "34/34 [==============================] - 44s 1s/step - loss: 0.1911 - root_mean_squared_error: 0.4371\n",
            "Epoch 43/50\n",
            "34/34 [==============================] - 44s 1s/step - loss: 0.1903 - root_mean_squared_error: 0.4363\n",
            "Epoch 44/50\n",
            "34/34 [==============================] - 44s 1s/step - loss: 0.1898 - root_mean_squared_error: 0.4357\n",
            "Epoch 45/50\n",
            "34/34 [==============================] - 44s 1s/step - loss: 0.1894 - root_mean_squared_error: 0.4352\n",
            "Epoch 46/50\n",
            "34/34 [==============================] - 44s 1s/step - loss: 0.1890 - root_mean_squared_error: 0.4348\n",
            "Epoch 47/50\n",
            "34/34 [==============================] - 45s 1s/step - loss: 0.1888 - root_mean_squared_error: 0.4345\n",
            "Epoch 48/50\n",
            "34/34 [==============================] - 44s 1s/step - loss: 0.1886 - root_mean_squared_error: 0.4343\n",
            "Epoch 49/50\n",
            "34/34 [==============================] - 44s 1s/step - loss: 0.1885 - root_mean_squared_error: 0.4342\n",
            "Epoch 50/50\n",
            "34/34 [==============================] - 44s 1s/step - loss: 0.1884 - root_mean_squared_error: 0.4341\n"
          ],
          "name": "stdout"
        }
      ]
    },
    {
      "cell_type": "code",
      "metadata": {
        "id": "xjyXD9-Y9A33",
        "outputId": "43fd59d3-669d-4a58-affc-cf2490c63374",
        "colab": {
          "base_uri": "https://localhost:8080/",
          "height": 51
        }
      },
      "source": [
        "loss_T, RMSE_T = model.evaluate(x_train, y_train, verbose=0)\n",
        "print('Train Error: %f' % (RMSE_T))\n",
        " \n",
        "# evaluate model on test dataset dataset\n",
        "loss_V, RMSE_V = model.evaluate(x_test,y_test, verbose=0)\n",
        "print('Test Error: %f' % (RMSE_V))"
      ],
      "execution_count": 18,
      "outputs": [
        {
          "output_type": "stream",
          "text": [
            "Train Error: 0.434008\n",
            "Test Error: 0.417338\n"
          ],
          "name": "stdout"
        }
      ]
    },
    {
      "cell_type": "code",
      "metadata": {
        "id": "daLyVCcEzjmJ",
        "outputId": "5dce7ff0-0b10-4f13-bf68-8f765ed2f1ed",
        "colab": {
          "base_uri": "https://localhost:8080/",
          "height": 296
        }
      },
      "source": [
        "print(history.history.keys())\n",
        "fig, ax1 = plt.subplots()\n",
        "epochs_arr =[i for i in range(0,epochs)]\n",
        "color = 'tab:red'\n",
        "ax1.set_xlabel('epoch')\n",
        "ax1.set_ylabel('RMSE', color=color)\n",
        "ax1.plot(epochs_arr, history.history['root_mean_squared_error'], color=color)\n",
        "ax1.tick_params(axis='y', labelcolor=color)\n",
        "plt.show()\n"
      ],
      "execution_count": 19,
      "outputs": [
        {
          "output_type": "stream",
          "text": [
            "dict_keys(['loss', 'root_mean_squared_error'])\n"
          ],
          "name": "stdout"
        },
        {
          "output_type": "display_data",
          "data": {
            "image/png": "[encoded data removed]",
            "text/plain": [
              "<Figure size 432x288 with 1 Axes>"
            ]
          },
          "metadata": {
            "tags": [],
            "needs_background": "light"
          }
        }
      ]
    }
  ]
}